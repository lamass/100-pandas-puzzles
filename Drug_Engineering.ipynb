{
  "nbformat": 4,
  "nbformat_minor": 0,
  "metadata": {
    "colab": {
      "provenance": [],
      "include_colab_link": true
    },
    "kernelspec": {
      "name": "python3",
      "display_name": "Python 3"
    }
  },
  "cells": [
    {
      "cell_type": "markdown",
      "metadata": {
        "id": "view-in-github",
        "colab_type": "text"
      },
      "source": [
        "<a href=\"https://colab.research.google.com/github/lamass/100-pandas-puzzles/blob/master/Drug_Engineering.ipynb\" target=\"_parent\"><img src=\"https://colab.research.google.com/assets/colab-badge.svg\" alt=\"Open In Colab\"/></a>"
      ]
    },
    {
      "cell_type": "markdown",
      "metadata": {
        "id": "K3FJgYP5Qyy6"
      },
      "source": [
        "## Drug Engineering\n",
        "\n",
        "## Demo - Engineering a novel drug using machine learning\n",
        "![alt text](https://github.com/Bibyutatsu/GENTRL/raw/master/images/Sampling.jpeg)\n",
        "![alt text](https://i.imgur.com/ov0VJ2t.png)\n",
        "![alt text](https://github.com/insilicomedicine/GENTRL/raw/master/images/gentrl.png)\n",
        "\n",
        "## The Problem - Bringing drugs to market requires up to 20 years & 2 Billion dollars.\n",
        "\n",
        "## The Solution - I think we can do it in 10 months with <1 million USD with AI.\n",
        "\n"
      ]
    },
    {
      "cell_type": "markdown",
      "metadata": {
        "id": "-0Zzr0TXUoUR"
      },
      "source": [
        "## The Drug Discovery Pipeline\n",
        "![alt text](https://external-preview.redd.it/q-Af6e1f_Lp84dybM-vo3GEnPF1976m7DrskEXMUSOo.png?auto=webp&s=d4099b7fe181d25ecd3f3c3f7d65a31cc3891ef4)\n",
        "\n",
        "### But Wait...\n",
        "![alt text](https://i.imgur.com/LccvuKq.png)\n",
        "- What if used AI to speed up 1 & 2, and if we target patients\n",
        "who need a custom drug, we can achieve n-of-1 clinical trails + expedited\n",
        "FDA Approval?\n",
        "\n",
        "## AI In other parts of Medicine\n",
        "![alt text](https://cdn.medicalfuturist.com/wp-content/uploads/2019/06/The-Medical-Futurist-FDA-approved-AI-algorithms-in-medicine-2019-09.png)\n",
        "\n",
        "![alt text](https://cdn.medicalfuturist.com/wp-content/uploads/2019/06/The-Medical-Futurist-FDA-approved-AI-algorithms-in-medicine-2019-09.png)\n",
        "\n",
        "![alt text](https://vni.s3.amazonaws.com/181204121314032.png)\n"
      ]
    },
    {
      "cell_type": "markdown",
      "metadata": {
        "id": "Kr7OsWY2YD7G"
      },
      "source": [
        "\n",
        "## Why must we deal with the FDA? Outrageous claims & Medical tragedy\n",
        "- ![alt text](https://upload.wikimedia.org/wikipedia/commons/4/4c/Director_John_Thompson_watching_chemist_Bertha_Munks_test_food_in_Tallahassee%2C_Florida.jpg)\n",
        "- ![alt text](http://srxa.files.wordpress.com/2011/09/new-drug-approval-process1.gif)\n",
        "- The FDA employees 14,000 people\n",
        "- The FDA regulates $1 trillion worth of products annually\n",
        "- The FDA (Food and Drug Administration) exists to ensure the safety of America's food, cosmetics, drugs and medical devices.\n",
        "- It's a \"seal of trust\" to prevent fake drug salesmen\n",
        "- ![alt text](https://addictionrecoveryebulletin.org/wp-content/uploads/2019/03/addiction-recovery-ebulletin-10-drugs-book-review.jpg)\n",
        "- During the industrial revolution, the production of drugs became a large-scale\n",
        "enterprise\n",
        "- No regulations meant hyped claims and faulty medicines\n",
        "- Many patent medicines relied on morphine or cocaine to give users a high instead of actually healing them.\n",
        "- At first, The 1906 Pure Food and Drug Act was initially concerned requiring certain drugs to accurately indicate dosage to prevent over-dosing\n",
        "- ![alt text](https://study.com/cimages/videopreview/videopreview-full/pure-food-and-drug-act-of-1906-definition-summary-history_thumbnail_124224.jpg)\n",
        "- In the 1930’s sulfanilamide (in a class of drugs called sulfonamides or sulfa drugs) was recognized for killing streptococcus bacteria.\n",
        "- A pair of Nobel Prizes were awarded to their discovery (by a German pathologist Gerhard Domagk in 1932 and by a Swiss pharmacologist Daniel Bovet in 1936)\n",
        "- It was sold in powdered format, and helped cure the presidents son\n",
        "- At that time there was no regard for testing for safety or toxicity, and over 600 bottles were distributed to pharmacies and physicians throughout the US\n",
        "- It turns out the lethal dose of DEG is only 2 ounces  (excruciating death)\n",
        "\n",
        "### A quote from Dr. Archie Calhoun who prescribed it to many people\n",
        "![alt text](https://uselessinformation.org/wp-content/uploads/2017/10/Calhoun.jpg)\n",
        "\n",
        "\"Nobody but Almighty God and I can know what I have been through in these past few days. But to realize that six human beings, all of them my patients, one of them my best friend, are dead because they took medicine that I prescribed for them innocently, and to realize that the medicine that I have used for years in such cases suddenly had become a deadly poison in its newest and most modern form, as recommended by a great and reputable pharmaceutical firm in Tennessee; well, that realization has given me such days and nights of mental and spiritual agony as I did not believe a human being could undergo and survive. I have spent hours on my knees, once I had done all any physician could do for his patients. I have known many hours when death for me would be a welcome relief from this agony.\"\n",
        "\n",
        "- ![alt text](https://image.slidesharecdn.com/fooddrugandcosmeticact1938-130923135314-phpapp01/95/food-drug-and-cosmetic-act-1938-7-638.jpg?cb=1379944880)\n",
        "\n",
        "- The Federal Food, Drug and Cosmetic Act of 1938 was a direct result of this tragedy.\n",
        "- By replacing the Pure Food and Drug Act of 1906 and giving the FDA considerably more powers and authority\n",
        "\n"
      ]
    },
    {
      "cell_type": "markdown",
      "metadata": {
        "id": "l-b38WFxjJgV"
      },
      "source": [
        "### Opportunities to work on this problem\n",
        "- AI replaces guesswork with data driven precision.\n",
        "- Check this out\n",
        "https://blog.benchsci.com/startups-using-artificial-intelligence-in-drug-discovery\n"
      ]
    },
    {
      "cell_type": "markdown",
      "metadata": {
        "id": "XxkqAC62jhn-"
      },
      "source": [
        "\n",
        "## The Problem\n",
        "\n",
        "- DDR1 is a protein coding gene. Dseases associated with DDR1 include pulmonary fibrossi, idipopathic, and breast cancer.\n",
        "- It encodes a specific protein that is a subclass of more general kinase proteins.\n",
        "- A kinase is an enzyme that catalyzes the transfer of phosphate groups from high-energy, phosphate-donating molecules to specific substrates. It's basically a chemical messenger!\n",
        "- How do we inhibit DDR1 Kinase to treat Fibrosis?\n",
        "![alt text](https://www.cancertherapyadvisor.com/wp-content/uploads/sites/12/2019/01/ch4903.fig1_.png)\n",
        "\n",
        "## The GENTRL Architecture\n"
      ]
    },
    {
      "cell_type": "markdown",
      "metadata": {
        "id": "efr7B20ZuJPb"
      },
      "source": [
        "## Step 1 - Import the data (6 datasets)  \n",
        "- 1 The Zinc Dataset (free database of 230 million commercialy available compounds for virutal screenning) https://github.com/molecularsets/moses\n",
        "- 2 Known DDR1 Kinase Inhbitors\n",
        "- 3 Common Kinase Inhibitors (positive)\n",
        "- 4 Molecules that act on Non-Kinase targets (negative)\n",
        "- 5 Patent Data for claimed molecules\n",
        "- 6 3d Structures of DDR1 Inhibitors\n",
        "\n",
        "## Step 2 - Model Training\n",
        "1. Train a Variational Autoencoder on the  (1) Zinc Dataset molecules (learn molecular structures to be able to naively generate novel ones)\n",
        "![alt text](https://i.stack.imgur.com/WdJHv.png)\n",
        "- Lets look at a VAE Example https://gist.github.com/naotokui/caa778eb7b64079642ed1e01ce87b5a5\n",
        "2. Train the VAE on the known molecules (2) and (3), so it can more accurately generate molecules that are potentially DDR1 Kinase inhibitors\n",
        "3. Create a reinforcement learning environment aka Markov Decision process where\n",
        "![alt text](https://image.slidesharecdn.com/ml-sep-09-091009141615-phpapp01/95/regretbased-reward-elicitation-for-markov-decision-processes-39-728.jpg?cb=1255098159)\n",
        "- Agent = Trained VAE\n",
        "- Environment = Self Organizing Maps\n",
        "- State = Latent Space Hidden State\n",
        "- Action = Generate Molecule\n",
        "- Reward = Scalar value that indicates likelihood of Novel Generated DDR1 Kinase Inhibitor\n",
        "\n",
        "![alt text](https://i.imgur.com/kntRlWd.png)\n",
        "\n",
        "https://rubikscode.net/2018/08/27/implementing-self-organizing-maps-with-python-and-tensorflow/\n",
        "\n",
        "![alt text](https://miro.medium.com/max/655/1*QG7afWQKjY3IpezhNQMzBg.png)\n",
        "![alt text](https://image.slidesharecdn.com/2014-01-17dublinr-self-organisingmapsforcustomersegmentation-shanelynn-140123095237-phpapp02/95/selforganising-maps-for-customer-segmentation-using-r-shane-lynn-dublin-r-8-638.jpg?cb=1391437215)\n",
        "- The Reward is computed by\n",
        "1. Generating a molecule X using the VAE\n",
        "2. Using a Self Organizing Map (trained on 5, patent data) to score the novelty of X vs existing molecules\n",
        "3. If above a certain, threshold, then use a Self Organizing Map (trained on 4?) to score likelihood X is a kinase inhibitor\n",
        "4. If above a certain threshold, then use a Self Organizing map (trained on 6?) to score likelihood x is specifically a DDR1 Kinase Inhibitor\n",
        "\n",
        "4. 30K molecules generated.\n",
        "5. Chose 40 likely structures. 39 were likely patent free. 6 chosen on the basis\n",
        "of synthetic accessiblity.\n",
        "6. Tested in vitro in various assays\n",
        "7. Tested the best 1 in a rodent, intravenously and orally. Favorable Pharmacokinetic results.\n",
        "\n",
        "![alt text](https://www.cyprotex.com/useruploads/ADME-Guide/Fig1-1-ADME-Tox-Explained.png)\n"
      ]
    },
    {
      "cell_type": "markdown",
      "metadata": {
        "id": "SZT29q2SseKL"
      },
      "source": [
        "### Let's look at the code!\n",
        "https://github.com/Bibyutatsu/GENTRL\n",
        "\n",
        "- pretrain, train_rl, then sampling,\n",
        "\n",
        "-Install and run ourselves\n"
      ]
    }
  ]
}